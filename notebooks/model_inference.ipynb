{
 "cells": [
  {
   "cell_type": "code",
   "execution_count": null,
   "metadata": {},
   "outputs": [],
   "source": [
    "%%capture\n",
    "!pip install torch\n",
    "!pip install numpy --upgrade\n",
    "!pip install pandas\n",
    "!pip install scikit-learn"
   ]
  },
  {
   "cell_type": "code",
   "execution_count": 1,
   "metadata": {},
   "outputs": [],
   "source": [
    "import torch\n",
    "import pickle\n",
    "import numpy as np\n",
    "import pandas as pd\n",
    "from sklearn.metrics.pairwise import cosine_similarity"
   ]
  },
  {
   "cell_type": "code",
   "execution_count": null,
   "metadata": {},
   "outputs": [],
   "source": [
    "model = torch.load('../binaries/5k_steps.pt', map_location=torch.device('cpu'))"
   ]
  },
  {
   "cell_type": "code",
   "execution_count": null,
   "metadata": {},
   "outputs": [],
   "source": [
    "with open(\"../data/book_vectors.pickle\", \"rb\") as handle:\n",
    "    book_vectors = pickle.load(handle)"
   ]
  },
  {
   "cell_type": "code",
   "execution_count": null,
   "metadata": {},
   "outputs": [],
   "source": [
    "train_df = pd.read_csv(\"../data/train_data.csv\")"
   ]
  },
  {
   "cell_type": "code",
   "execution_count": null,
   "metadata": {},
   "outputs": [],
   "source": [
    "book_to_index = {\n",
    "    book_id: i for i, book_id in enumerate(train_df[\"book_id\"].unique())\n",
    "}"
   ]
  },
  {
   "cell_type": "code",
   "execution_count": null,
   "metadata": {
    "scrolled": true
   },
   "outputs": [],
   "source": [
    "train_df.loc[train_df[\"title\"].str.contains(\"lebron james\", case=False)][[\"title\", \"book_id\"]].drop_duplicates()"
   ]
  },
  {
   "cell_type": "code",
   "execution_count": null,
   "metadata": {},
   "outputs": [],
   "source": [
    "def compute_embedding(book_id):\n",
    "    with torch.no_grad():\n",
    "        return model.fc1(\n",
    "            torch.tensor(book_vectors[book_to_index[book_id]].astype('float32').reshape(1, -1))\n",
    "        )"
   ]
  },
  {
   "cell_type": "code",
   "execution_count": null,
   "metadata": {},
   "outputs": [],
   "source": [
    "# harry potter & another harry potter\n",
    "cosine_similarity(compute_embedding(5), compute_embedding(3))"
   ]
  },
  {
   "cell_type": "code",
   "execution_count": null,
   "metadata": {},
   "outputs": [],
   "source": [
    "# harry potter & catch 22\n",
    "cosine_similarity(compute_embedding(5), compute_embedding(255444))"
   ]
  },
  {
   "cell_type": "code",
   "execution_count": null,
   "metadata": {},
   "outputs": [],
   "source": [
    "# harry potter & lion witch wardrobe\n",
    "cosine_similarity(compute_embedding(5), compute_embedding(100915))"
   ]
  },
  {
   "cell_type": "code",
   "execution_count": null,
   "metadata": {},
   "outputs": [],
   "source": [
    "# harry potter & the brothers grimm\n",
    "cosine_similarity(compute_embedding(5), compute_embedding(13554713))"
   ]
  },
  {
   "cell_type": "code",
   "execution_count": null,
   "metadata": {},
   "outputs": [],
   "source": [
    "# harry potter & a lebron book\n",
    "cosine_similarity(compute_embedding(5), compute_embedding(882588))"
   ]
  },
  {
   "cell_type": "code",
   "execution_count": null,
   "metadata": {},
   "outputs": [],
   "source": [
    "%%time\n",
    "for vector in list(book_vectors.values())[:10000]:\n",
    "    with torch.no_grad():\n",
    "        book_tensor = torch.tensor(vector.astype('float32').reshape(1, -1))\n",
    "        book_embedding = model.fc1(book_tensor)"
   ]
  },
  {
   "cell_type": "code",
   "execution_count": 1,
   "metadata": {},
   "outputs": [],
   "source": [
    "import pandas as pd"
   ]
  },
  {
   "cell_type": "code",
   "execution_count": 3,
   "metadata": {},
   "outputs": [],
   "source": [
    "df = pd.read_csv('../data/train_data.csv')"
   ]
  },
  {
   "cell_type": "code",
   "execution_count": 4,
   "metadata": {},
   "outputs": [],
   "source": [
    "df = df[['book_id', 'title']]"
   ]
  },
  {
   "cell_type": "code",
   "execution_count": 5,
   "metadata": {},
   "outputs": [
    {
     "data": {
      "text/html": [
       "<div>\n",
       "<style scoped>\n",
       "    .dataframe tbody tr th:only-of-type {\n",
       "        vertical-align: middle;\n",
       "    }\n",
       "\n",
       "    .dataframe tbody tr th {\n",
       "        vertical-align: top;\n",
       "    }\n",
       "\n",
       "    .dataframe thead th {\n",
       "        text-align: right;\n",
       "    }\n",
       "</style>\n",
       "<table border=\"1\" class=\"dataframe\">\n",
       "  <thead>\n",
       "    <tr style=\"text-align: right;\">\n",
       "      <th></th>\n",
       "      <th>book_id</th>\n",
       "      <th>title</th>\n",
       "    </tr>\n",
       "  </thead>\n",
       "  <tbody>\n",
       "    <tr>\n",
       "      <th>0</th>\n",
       "      <td>9712492</td>\n",
       "      <td>Providence (Providence, #1)</td>\n",
       "    </tr>\n",
       "    <tr>\n",
       "      <th>1</th>\n",
       "      <td>9712492</td>\n",
       "      <td>Providence (Providence, #1)</td>\n",
       "    </tr>\n",
       "    <tr>\n",
       "      <th>2</th>\n",
       "      <td>9712492</td>\n",
       "      <td>Providence (Providence, #1)</td>\n",
       "    </tr>\n",
       "    <tr>\n",
       "      <th>3</th>\n",
       "      <td>9712492</td>\n",
       "      <td>Providence (Providence, #1)</td>\n",
       "    </tr>\n",
       "    <tr>\n",
       "      <th>4</th>\n",
       "      <td>9712492</td>\n",
       "      <td>Providence (Providence, #1)</td>\n",
       "    </tr>\n",
       "  </tbody>\n",
       "</table>\n",
       "</div>"
      ],
      "text/plain": [
       "   book_id                        title\n",
       "0  9712492  Providence (Providence, #1)\n",
       "1  9712492  Providence (Providence, #1)\n",
       "2  9712492  Providence (Providence, #1)\n",
       "3  9712492  Providence (Providence, #1)\n",
       "4  9712492  Providence (Providence, #1)"
      ]
     },
     "execution_count": 5,
     "metadata": {},
     "output_type": "execute_result"
    }
   ],
   "source": [
    "df.head()"
   ]
  },
  {
   "cell_type": "code",
   "execution_count": 7,
   "metadata": {},
   "outputs": [],
   "source": [
    "df = df.drop_duplicates('book_id').reset_index(drop=True)"
   ]
  },
  {
   "cell_type": "code",
   "execution_count": 8,
   "metadata": {},
   "outputs": [
    {
     "data": {
      "text/html": [
       "<div>\n",
       "<style scoped>\n",
       "    .dataframe tbody tr th:only-of-type {\n",
       "        vertical-align: middle;\n",
       "    }\n",
       "\n",
       "    .dataframe tbody tr th {\n",
       "        vertical-align: top;\n",
       "    }\n",
       "\n",
       "    .dataframe thead th {\n",
       "        text-align: right;\n",
       "    }\n",
       "</style>\n",
       "<table border=\"1\" class=\"dataframe\">\n",
       "  <thead>\n",
       "    <tr style=\"text-align: right;\">\n",
       "      <th></th>\n",
       "      <th>book_id</th>\n",
       "      <th>title</th>\n",
       "    </tr>\n",
       "  </thead>\n",
       "  <tbody>\n",
       "    <tr>\n",
       "      <th>0</th>\n",
       "      <td>9712492</td>\n",
       "      <td>Providence (Providence, #1)</td>\n",
       "    </tr>\n",
       "    <tr>\n",
       "      <th>1</th>\n",
       "      <td>11505797</td>\n",
       "      <td>Beautiful Disaster (Beautiful, #1)</td>\n",
       "    </tr>\n",
       "    <tr>\n",
       "      <th>2</th>\n",
       "      <td>11532160</td>\n",
       "      <td>Requiem (Providence, #2)</td>\n",
       "    </tr>\n",
       "    <tr>\n",
       "      <th>3</th>\n",
       "      <td>13417946</td>\n",
       "      <td>Eden (Providence, #3)</td>\n",
       "    </tr>\n",
       "    <tr>\n",
       "      <th>4</th>\n",
       "      <td>10140661</td>\n",
       "      <td>Gabriel's Inferno (Gabriel's Inferno, #1)</td>\n",
       "    </tr>\n",
       "  </tbody>\n",
       "</table>\n",
       "</div>"
      ],
      "text/plain": [
       "    book_id                                      title\n",
       "0   9712492                Providence (Providence, #1)\n",
       "1  11505797         Beautiful Disaster (Beautiful, #1)\n",
       "2  11532160                   Requiem (Providence, #2)\n",
       "3  13417946                      Eden (Providence, #3)\n",
       "4  10140661  Gabriel's Inferno (Gabriel's Inferno, #1)"
      ]
     },
     "execution_count": 8,
     "metadata": {},
     "output_type": "execute_result"
    }
   ],
   "source": [
    "df.head()"
   ]
  },
  {
   "cell_type": "code",
   "execution_count": 9,
   "metadata": {},
   "outputs": [],
   "source": [
    "df['embedding_id'] = range(len(df))"
   ]
  },
  {
   "cell_type": "code",
   "execution_count": 10,
   "metadata": {},
   "outputs": [
    {
     "data": {
      "text/html": [
       "<div>\n",
       "<style scoped>\n",
       "    .dataframe tbody tr th:only-of-type {\n",
       "        vertical-align: middle;\n",
       "    }\n",
       "\n",
       "    .dataframe tbody tr th {\n",
       "        vertical-align: top;\n",
       "    }\n",
       "\n",
       "    .dataframe thead th {\n",
       "        text-align: right;\n",
       "    }\n",
       "</style>\n",
       "<table border=\"1\" class=\"dataframe\">\n",
       "  <thead>\n",
       "    <tr style=\"text-align: right;\">\n",
       "      <th></th>\n",
       "      <th>book_id</th>\n",
       "      <th>title</th>\n",
       "      <th>embedding_id</th>\n",
       "    </tr>\n",
       "  </thead>\n",
       "  <tbody>\n",
       "    <tr>\n",
       "      <th>0</th>\n",
       "      <td>9712492</td>\n",
       "      <td>Providence (Providence, #1)</td>\n",
       "      <td>0</td>\n",
       "    </tr>\n",
       "    <tr>\n",
       "      <th>1</th>\n",
       "      <td>11505797</td>\n",
       "      <td>Beautiful Disaster (Beautiful, #1)</td>\n",
       "      <td>1</td>\n",
       "    </tr>\n",
       "    <tr>\n",
       "      <th>2</th>\n",
       "      <td>11532160</td>\n",
       "      <td>Requiem (Providence, #2)</td>\n",
       "      <td>2</td>\n",
       "    </tr>\n",
       "    <tr>\n",
       "      <th>3</th>\n",
       "      <td>13417946</td>\n",
       "      <td>Eden (Providence, #3)</td>\n",
       "      <td>3</td>\n",
       "    </tr>\n",
       "    <tr>\n",
       "      <th>4</th>\n",
       "      <td>10140661</td>\n",
       "      <td>Gabriel's Inferno (Gabriel's Inferno, #1)</td>\n",
       "      <td>4</td>\n",
       "    </tr>\n",
       "  </tbody>\n",
       "</table>\n",
       "</div>"
      ],
      "text/plain": [
       "    book_id                                      title  embedding_id\n",
       "0   9712492                Providence (Providence, #1)             0\n",
       "1  11505797         Beautiful Disaster (Beautiful, #1)             1\n",
       "2  11532160                   Requiem (Providence, #2)             2\n",
       "3  13417946                      Eden (Providence, #3)             3\n",
       "4  10140661  Gabriel's Inferno (Gabriel's Inferno, #1)             4"
      ]
     },
     "execution_count": 10,
     "metadata": {},
     "output_type": "execute_result"
    }
   ],
   "source": [
    "df.head()"
   ]
  },
  {
   "cell_type": "code",
   "execution_count": 11,
   "metadata": {},
   "outputs": [],
   "source": [
    "df = df[['book_id', 'embedding_id', 'title']]"
   ]
  },
  {
   "cell_type": "code",
   "execution_count": 12,
   "metadata": {},
   "outputs": [
    {
     "data": {
      "text/html": [
       "<div>\n",
       "<style scoped>\n",
       "    .dataframe tbody tr th:only-of-type {\n",
       "        vertical-align: middle;\n",
       "    }\n",
       "\n",
       "    .dataframe tbody tr th {\n",
       "        vertical-align: top;\n",
       "    }\n",
       "\n",
       "    .dataframe thead th {\n",
       "        text-align: right;\n",
       "    }\n",
       "</style>\n",
       "<table border=\"1\" class=\"dataframe\">\n",
       "  <thead>\n",
       "    <tr style=\"text-align: right;\">\n",
       "      <th></th>\n",
       "      <th>book_id</th>\n",
       "      <th>embedding_id</th>\n",
       "      <th>title</th>\n",
       "    </tr>\n",
       "  </thead>\n",
       "  <tbody>\n",
       "    <tr>\n",
       "      <th>0</th>\n",
       "      <td>9712492</td>\n",
       "      <td>0</td>\n",
       "      <td>Providence (Providence, #1)</td>\n",
       "    </tr>\n",
       "    <tr>\n",
       "      <th>1</th>\n",
       "      <td>11505797</td>\n",
       "      <td>1</td>\n",
       "      <td>Beautiful Disaster (Beautiful, #1)</td>\n",
       "    </tr>\n",
       "    <tr>\n",
       "      <th>2</th>\n",
       "      <td>11532160</td>\n",
       "      <td>2</td>\n",
       "      <td>Requiem (Providence, #2)</td>\n",
       "    </tr>\n",
       "    <tr>\n",
       "      <th>3</th>\n",
       "      <td>13417946</td>\n",
       "      <td>3</td>\n",
       "      <td>Eden (Providence, #3)</td>\n",
       "    </tr>\n",
       "    <tr>\n",
       "      <th>4</th>\n",
       "      <td>10140661</td>\n",
       "      <td>4</td>\n",
       "      <td>Gabriel's Inferno (Gabriel's Inferno, #1)</td>\n",
       "    </tr>\n",
       "  </tbody>\n",
       "</table>\n",
       "</div>"
      ],
      "text/plain": [
       "    book_id  embedding_id                                      title\n",
       "0   9712492             0                Providence (Providence, #1)\n",
       "1  11505797             1         Beautiful Disaster (Beautiful, #1)\n",
       "2  11532160             2                   Requiem (Providence, #2)\n",
       "3  13417946             3                      Eden (Providence, #3)\n",
       "4  10140661             4  Gabriel's Inferno (Gabriel's Inferno, #1)"
      ]
     },
     "execution_count": 12,
     "metadata": {},
     "output_type": "execute_result"
    }
   ],
   "source": [
    "df.head()"
   ]
  },
  {
   "cell_type": "code",
   "execution_count": 43,
   "metadata": {},
   "outputs": [],
   "source": [
    "df.to_csv('books_df.csv', index=False)"
   ]
  },
  {
   "cell_type": "code",
   "execution_count": 19,
   "metadata": {},
   "outputs": [
    {
     "name": "stdout",
     "output_type": "stream",
     "text": [
      "Collecting pickle5\n",
      "\u001b[?25l  Downloading https://files.pythonhosted.org/packages/91/2b/2dca5d1719d020cd055eb637cbd813e79171dc80210de8778502195bbc62/pickle5-0.0.12-cp37-cp37m-macosx_10_9_x86_64.whl (124kB)\n",
      "\u001b[K    100% |████████████████████████████████| 133kB 4.6MB/s ta 0:00:01\n",
      "\u001b[?25hInstalling collected packages: pickle5\n",
      "Successfully installed pickle5-0.0.12\n"
     ]
    }
   ],
   "source": [
    "!pip install pickle5"
   ]
  },
  {
   "cell_type": "code",
   "execution_count": 32,
   "metadata": {},
   "outputs": [],
   "source": [
    "import json\n",
    "import pickle5 as pickle"
   ]
  },
  {
   "cell_type": "code",
   "execution_count": 21,
   "metadata": {},
   "outputs": [],
   "source": [
    "with open(\"../data/book_vectors.pickle\", \"rb\") as handle:\n",
    "    book_vectors = pickle.load(handle)"
   ]
  },
  {
   "cell_type": "code",
   "execution_count": 24,
   "metadata": {},
   "outputs": [
    {
     "data": {
      "text/plain": [
       "0"
      ]
     },
     "execution_count": 24,
     "metadata": {},
     "output_type": "execute_result"
    }
   ],
   "source": [
    "min(book_vectors.keys())"
   ]
  },
  {
   "cell_type": "code",
   "execution_count": 25,
   "metadata": {},
   "outputs": [
    {
     "data": {
      "text/plain": [
       "519731"
      ]
     },
     "execution_count": 25,
     "metadata": {},
     "output_type": "execute_result"
    }
   ],
   "source": [
    "max(book_vectors.keys())"
   ]
  },
  {
   "cell_type": "code",
   "execution_count": 26,
   "metadata": {},
   "outputs": [
    {
     "data": {
      "text/plain": [
       "519732"
      ]
     },
     "execution_count": 26,
     "metadata": {},
     "output_type": "execute_result"
    }
   ],
   "source": [
    "len(book_vectors)"
   ]
  },
  {
   "cell_type": "code",
   "execution_count": 34,
   "metadata": {},
   "outputs": [],
   "source": [
    "book_vec_list = []\n",
    "\n",
    "for i in range(len(book_vectors)):\n",
    "    book_vec_list.append(json.dumps(list(book_vectors[i])))"
   ]
  },
  {
   "cell_type": "code",
   "execution_count": 40,
   "metadata": {},
   "outputs": [],
   "source": [
    "df['book_vector'] = book_vec_list"
   ]
  },
  {
   "cell_type": "code",
   "execution_count": 41,
   "metadata": {},
   "outputs": [
    {
     "data": {
      "text/html": [
       "<div>\n",
       "<style scoped>\n",
       "    .dataframe tbody tr th:only-of-type {\n",
       "        vertical-align: middle;\n",
       "    }\n",
       "\n",
       "    .dataframe tbody tr th {\n",
       "        vertical-align: top;\n",
       "    }\n",
       "\n",
       "    .dataframe thead th {\n",
       "        text-align: right;\n",
       "    }\n",
       "</style>\n",
       "<table border=\"1\" class=\"dataframe\">\n",
       "  <thead>\n",
       "    <tr style=\"text-align: right;\">\n",
       "      <th></th>\n",
       "      <th>book_id</th>\n",
       "      <th>embedding_id</th>\n",
       "      <th>title</th>\n",
       "      <th>book_vector</th>\n",
       "    </tr>\n",
       "  </thead>\n",
       "  <tbody>\n",
       "    <tr>\n",
       "      <th>0</th>\n",
       "      <td>9712492</td>\n",
       "      <td>0</td>\n",
       "      <td>Providence (Providence, #1)</td>\n",
       "      <td>[0, 0.0, 0, 0.011195625503873251, 0, 0.8, 0.00...</td>\n",
       "    </tr>\n",
       "    <tr>\n",
       "      <th>1</th>\n",
       "      <td>11505797</td>\n",
       "      <td>1</td>\n",
       "      <td>Beautiful Disaster (Beautiful, #1)</td>\n",
       "      <td>[0, 0.0, 0, 0.15401871779592696, 1, 0.828, 0.0...</td>\n",
       "    </tr>\n",
       "    <tr>\n",
       "      <th>2</th>\n",
       "      <td>11532160</td>\n",
       "      <td>2</td>\n",
       "      <td>Requiem (Providence, #2)</td>\n",
       "      <td>[0, 0.0, 0, 0.004732027060184374, 0, 0.8300000...</td>\n",
       "    </tr>\n",
       "    <tr>\n",
       "      <th>3</th>\n",
       "      <td>13417946</td>\n",
       "      <td>3</td>\n",
       "      <td>Eden (Providence, #3)</td>\n",
       "      <td>[0, 0.0, 0, 0.005412036874759017, 0, 0.8340000...</td>\n",
       "    </tr>\n",
       "    <tr>\n",
       "      <th>4</th>\n",
       "      <td>10140661</td>\n",
       "      <td>4</td>\n",
       "      <td>Gabriel's Inferno (Gabriel's Inferno, #1)</td>\n",
       "      <td>[1, 1.0, 0, 0.04355568018507484, 0, 0.80399999...</td>\n",
       "    </tr>\n",
       "  </tbody>\n",
       "</table>\n",
       "</div>"
      ],
      "text/plain": [
       "    book_id  embedding_id                                      title  \\\n",
       "0   9712492             0                Providence (Providence, #1)   \n",
       "1  11505797             1         Beautiful Disaster (Beautiful, #1)   \n",
       "2  11532160             2                   Requiem (Providence, #2)   \n",
       "3  13417946             3                      Eden (Providence, #3)   \n",
       "4  10140661             4  Gabriel's Inferno (Gabriel's Inferno, #1)   \n",
       "\n",
       "                                         book_vector  \n",
       "0  [0, 0.0, 0, 0.011195625503873251, 0, 0.8, 0.00...  \n",
       "1  [0, 0.0, 0, 0.15401871779592696, 1, 0.828, 0.0...  \n",
       "2  [0, 0.0, 0, 0.004732027060184374, 0, 0.8300000...  \n",
       "3  [0, 0.0, 0, 0.005412036874759017, 0, 0.8340000...  \n",
       "4  [1, 1.0, 0, 0.04355568018507484, 0, 0.80399999...  "
      ]
     },
     "execution_count": 41,
     "metadata": {},
     "output_type": "execute_result"
    }
   ],
   "source": [
    "df.head()"
   ]
  },
  {
   "cell_type": "code",
   "execution_count": 42,
   "metadata": {},
   "outputs": [
    {
     "data": {
      "text/plain": [
       "str"
      ]
     },
     "execution_count": 42,
     "metadata": {},
     "output_type": "execute_result"
    }
   ],
   "source": [
    "type(df['book_vector'][0])"
   ]
  },
  {
   "cell_type": "code",
   "execution_count": 39,
   "metadata": {},
   "outputs": [
    {
     "data": {
      "text/plain": [
       "'[0, 0.0, 0, 0.011195625503873251, 0, 0.8, 0.00038092134291703217, 0.004835544743686944, false, false, false, false, false, false, false, false, false, false, true, false, false, false, false, true, false, -1.3562464714050293, 1.1212412118911743, -2.3047139644622803, -1.0970467329025269, 3.304687738418579, 0.2997288703918457, 0.570357084274292, 5.383020401000977, 0.16782329976558685, -0.05038875713944435, 5.724740982055664, 1.1003310680389404, -2.285029649734497, 1.3047746419906616, 1.629544973373413, 1.3629673719406128, -0.5762142539024353, -1.3210035562515259, -0.9516798257827759, -1.4543696641921997, 0.9715679287910461, -0.5614798665046692, -0.550462543964386, -0.9130169153213501, -0.8245174884796143, -1.8662865161895752, -3.7481517791748047, 0.24189385771751404, 0.4625185430049896, 0.6747053861618042, 0.8302078247070312, -0.7133716344833374, -0.49939993023872375, -0.3534839451313019, -2.9900429248809814, -0.6217560172080994, -0.9875502586364746, 1.3178107738494873, -0.10164692252874374, 0.453948438167572, -1.1688657999038696, 0.2941600978374481, 0.6361597180366516, 0.5061554908752441, -0.15125712752342224, 1.1254886388778687, -0.790324330329895, -3.1156272888183594, -0.416843444108963, 3.937530994415283, -1.4607553482055664, 0.7842931747436523, 1.0246673822402954, -4.064415454864502, -0.23858579993247986, -1.1409767866134644, 0.764106810092926, -0.5469509959220886, 0.36802566051483154, 0.3718225359916687, 0.11155378818511963, -1.440922498703003, -0.48330649733543396, -1.0366604328155518, -2.3197712898254395, -5.686299800872803, 4.237121105194092, 2.5333800315856934, 2.289653778076172, -3.4076855182647705, 2.3960769176483154, -0.6899715065956116, 2.2964298725128174, -2.570354461669922, -0.3153698742389679, -0.26146551966667175, 2.42665696144104, 2.193657159805298, 0.20797859132289886, 1.7028770446777344, -0.4992857575416565, 6.14113712310791, -2.4986460208892822, -3.042548656463623, -2.1594419479370117, 2.4374282360076904, -3.5565431118011475, 6.268157005310059, -3.465771198272705, 0.7066286206245422, 1.2729686498641968, 2.4934000968933105, 0.4198428690433502, -0.8190013766288757, -1.6286569833755493, 0.5621143579483032]'"
      ]
     },
     "execution_count": 39,
     "metadata": {},
     "output_type": "execute_result"
    }
   ],
   "source": [
    "book_vec_list[0]"
   ]
  },
  {
   "cell_type": "code",
   "execution_count": 1,
   "metadata": {},
   "outputs": [],
   "source": [
    "import torch"
   ]
  },
  {
   "cell_type": "code",
   "execution_count": 5,
   "metadata": {},
   "outputs": [],
   "source": [
    "model = torch.load(\"../binaries/5k_steps.pt\", map_location=torch.device(\"cpu\"))"
   ]
  },
  {
   "cell_type": "code",
   "execution_count": 6,
   "metadata": {},
   "outputs": [],
   "source": [
    "torch.save(model.state_dict(), \"../binaries/5k_steps_state_dict.pt\")"
   ]
  },
  {
   "cell_type": "code",
   "execution_count": null,
   "metadata": {},
   "outputs": [],
   "source": []
  }
 ],
 "metadata": {
  "kernelspec": {
   "display_name": "Python 3",
   "language": "python",
   "name": "python3"
  },
  "language_info": {
   "codemirror_mode": {
    "name": "ipython",
    "version": 3
   },
   "file_extension": ".py",
   "mimetype": "text/x-python",
   "name": "python",
   "nbconvert_exporter": "python",
   "pygments_lexer": "ipython3",
   "version": "3.7.3"
  }
 },
 "nbformat": 4,
 "nbformat_minor": 4
}
