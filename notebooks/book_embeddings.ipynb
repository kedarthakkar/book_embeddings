{
 "cells": [
  {
   "cell_type": "code",
   "execution_count": null,
   "metadata": {
    "scrolled": true
   },
   "outputs": [],
   "source": [
    "!pip install scikit-learn\n",
    "# !pip install embeddings\n",
    "!pip install sent2vec"
   ]
  },
  {
   "cell_type": "code",
   "execution_count": null,
   "metadata": {
    "scrolled": true
   },
   "outputs": [],
   "source": [
    "# Generate embeddings of text features\n",
    "!python -m spacy download en_core_web_md"
   ]
  },
  {
   "cell_type": "code",
   "execution_count": 1,
   "metadata": {},
   "outputs": [],
   "source": [
    "import pandas as pd\n",
    "import numpy as np\n",
    "import json\n",
    "import gzip\n",
    "import spacy\n",
    "from sklearn.impute import SimpleImputer\n",
    "from sklearn.preprocessing import MinMaxScaler"
   ]
  },
  {
   "cell_type": "markdown",
   "metadata": {},
   "source": [
    "# Step 1"
   ]
  },
  {
   "cell_type": "markdown",
   "metadata": {},
   "source": [
    "### Subsample full interactions for development"
   ]
  },
  {
   "cell_type": "code",
   "execution_count": null,
   "metadata": {},
   "outputs": [],
   "source": [
    "full_df = pd.read_csv('goodreads_interactions.csv')"
   ]
  },
  {
   "cell_type": "code",
   "execution_count": null,
   "metadata": {},
   "outputs": [],
   "source": [
    "len(full_df)"
   ]
  },
  {
   "cell_type": "code",
   "execution_count": null,
   "metadata": {},
   "outputs": [],
   "source": [
    "full_df.head()"
   ]
  },
  {
   "cell_type": "code",
   "execution_count": null,
   "metadata": {},
   "outputs": [],
   "source": [
    "len(full_df['book_id'].unique())"
   ]
  },
  {
   "cell_type": "code",
   "execution_count": null,
   "metadata": {},
   "outputs": [],
   "source": [
    "len(full_df['user_id'].unique())"
   ]
  },
  {
   "cell_type": "code",
   "execution_count": null,
   "metadata": {},
   "outputs": [],
   "source": [
    "user_id_subset = np.random.choice(full_df['user_id'].unique(), size=10000)"
   ]
  },
  {
   "cell_type": "code",
   "execution_count": null,
   "metadata": {},
   "outputs": [],
   "source": [
    "sub_df = full_df.loc[full_df['user_id'].isin(user_id_subset)]"
   ]
  },
  {
   "cell_type": "code",
   "execution_count": null,
   "metadata": {},
   "outputs": [],
   "source": [
    "len(sub_df) / len(full_df)"
   ]
  },
  {
   "cell_type": "code",
   "execution_count": null,
   "metadata": {},
   "outputs": [],
   "source": [
    "sub_df.to_csv('goodreads_interactions_subsample.csv')"
   ]
  },
  {
   "cell_type": "code",
   "execution_count": null,
   "metadata": {},
   "outputs": [],
   "source": [
    "sub_df = pd.read_csv('goodreads_interactions_subsample.csv')"
   ]
  },
  {
   "cell_type": "markdown",
   "metadata": {},
   "source": [
    "### Join with other data"
   ]
  },
  {
   "cell_type": "markdown",
   "metadata": {},
   "source": [
    "#### Read Book DF"
   ]
  },
  {
   "cell_type": "code",
   "execution_count": null,
   "metadata": {},
   "outputs": [],
   "source": [
    "def load_data(file_name, head = 500):\n",
    "    count = 0\n",
    "    data = []\n",
    "    with gzip.open(file_name) as fin:\n",
    "        for l in fin:\n",
    "            d = json.loads(l)\n",
    "            count += 1\n",
    "            data.append(d)\n",
    "            \n",
    "            # break if reaches the 100th line\n",
    "            if (head is not None) and (count > head):\n",
    "                break\n",
    "    return data"
   ]
  },
  {
   "cell_type": "code",
   "execution_count": null,
   "metadata": {},
   "outputs": [],
   "source": [
    "full_data = load_data('goodreads_books.json.gz', head=None)"
   ]
  },
  {
   "cell_type": "code",
   "execution_count": null,
   "metadata": {},
   "outputs": [],
   "source": [
    "def create_book_df(data):\n",
    "    df = pd.DataFrame.from_records(data)\n",
    "    df = df.loc[~df['description'].eq('')]\n",
    "    df = df[[\n",
    "        'text_reviews_count',\n",
    "        'country_code',\n",
    "        'is_ebook',\n",
    "        'average_rating',\n",
    "        'description',\n",
    "        'format',\n",
    "        'num_pages',\n",
    "        'publication_month',\n",
    "        'publication_year',\n",
    "        'ratings_count',\n",
    "        'title',\n",
    "        'book_id'\n",
    "    ]]\n",
    "    \n",
    "    df.loc[df['num_pages'] == '', 'num_pages'] = np.nan\n",
    "    categorical_imp = SimpleImputer(missing_values='', strategy='most_frequent')\n",
    "    numerical_imp = SimpleImputer(strategy='mean')\n",
    "    categorical_columns = ['format', 'publication_month', 'publication_year']\n",
    "    df[categorical_columns] = categorical_imp.fit_transform(df[categorical_columns])\n",
    "    numerical_columns = ['num_pages']\n",
    "    df[numerical_columns] = numerical_imp.fit_transform(df[numerical_columns])\n",
    "    \n",
    "    return df"
   ]
  },
  {
   "cell_type": "code",
   "execution_count": null,
   "metadata": {},
   "outputs": [],
   "source": [
    "book_df = create_book_df(full_data)"
   ]
  },
  {
   "cell_type": "code",
   "execution_count": null,
   "metadata": {},
   "outputs": [],
   "source": [
    "book_df.to_csv('book_df.csv')"
   ]
  },
  {
   "cell_type": "code",
   "execution_count": 4,
   "metadata": {},
   "outputs": [],
   "source": [
    "book_df = pd.read_csv('../data/full_book_df.csv')"
   ]
  },
  {
   "cell_type": "code",
   "execution_count": 5,
   "metadata": {},
   "outputs": [
    {
     "data": {
      "text/plain": [
       "1948401"
      ]
     },
     "execution_count": 5,
     "metadata": {},
     "output_type": "execute_result"
    }
   ],
   "source": [
    "len(book_df)"
   ]
  },
  {
   "cell_type": "code",
   "execution_count": 6,
   "metadata": {},
   "outputs": [
    {
     "data": {
      "text/html": [
       "<div>\n",
       "<style scoped>\n",
       "    .dataframe tbody tr th:only-of-type {\n",
       "        vertical-align: middle;\n",
       "    }\n",
       "\n",
       "    .dataframe tbody tr th {\n",
       "        vertical-align: top;\n",
       "    }\n",
       "\n",
       "    .dataframe thead th {\n",
       "        text-align: right;\n",
       "    }\n",
       "</style>\n",
       "<table border=\"1\" class=\"dataframe\">\n",
       "  <thead>\n",
       "    <tr style=\"text-align: right;\">\n",
       "      <th></th>\n",
       "      <th>text_reviews_count</th>\n",
       "      <th>country_code</th>\n",
       "      <th>is_ebook</th>\n",
       "      <th>average_rating</th>\n",
       "      <th>description</th>\n",
       "      <th>format</th>\n",
       "      <th>num_pages</th>\n",
       "      <th>publication_month</th>\n",
       "      <th>publication_year</th>\n",
       "      <th>ratings_count</th>\n",
       "      <th>title</th>\n",
       "      <th>book_id</th>\n",
       "    </tr>\n",
       "  </thead>\n",
       "  <tbody>\n",
       "    <tr>\n",
       "      <th>0</th>\n",
       "      <td>6</td>\n",
       "      <td>US</td>\n",
       "      <td>False</td>\n",
       "      <td>3.23</td>\n",
       "      <td>Anita Diamant's international bestseller \"The ...</td>\n",
       "      <td>Audio CD</td>\n",
       "      <td>266.579581</td>\n",
       "      <td>10</td>\n",
       "      <td>2001</td>\n",
       "      <td>10</td>\n",
       "      <td>Good Harbor</td>\n",
       "      <td>1333909</td>\n",
       "    </tr>\n",
       "    <tr>\n",
       "      <th>1</th>\n",
       "      <td>7</td>\n",
       "      <td>US</td>\n",
       "      <td>False</td>\n",
       "      <td>4.03</td>\n",
       "      <td>Omnibus book club edition containing the Ladie...</td>\n",
       "      <td>Hardcover</td>\n",
       "      <td>600.000000</td>\n",
       "      <td>10</td>\n",
       "      <td>1987</td>\n",
       "      <td>140</td>\n",
       "      <td>The Unschooled Wizard (Sun Wolf and Starhawk, ...</td>\n",
       "      <td>7327624</td>\n",
       "    </tr>\n",
       "    <tr>\n",
       "      <th>2</th>\n",
       "      <td>3282</td>\n",
       "      <td>US</td>\n",
       "      <td>False</td>\n",
       "      <td>3.49</td>\n",
       "      <td>Addie Downs and Valerie Adler were eight when ...</td>\n",
       "      <td>Hardcover</td>\n",
       "      <td>368.000000</td>\n",
       "      <td>7</td>\n",
       "      <td>2009</td>\n",
       "      <td>51184</td>\n",
       "      <td>Best Friends Forever</td>\n",
       "      <td>6066819</td>\n",
       "    </tr>\n",
       "    <tr>\n",
       "      <th>3</th>\n",
       "      <td>7</td>\n",
       "      <td>US</td>\n",
       "      <td>False</td>\n",
       "      <td>4.13</td>\n",
       "      <td>Relates in vigorous prose the tale of Aeneas, ...</td>\n",
       "      <td>Paperback</td>\n",
       "      <td>162.000000</td>\n",
       "      <td>9</td>\n",
       "      <td>2006</td>\n",
       "      <td>46</td>\n",
       "      <td>The Aeneid for Boys and Girls</td>\n",
       "      <td>287141</td>\n",
       "    </tr>\n",
       "    <tr>\n",
       "      <th>4</th>\n",
       "      <td>6</td>\n",
       "      <td>US</td>\n",
       "      <td>False</td>\n",
       "      <td>4.22</td>\n",
       "      <td>To Kara's astonishment, she discovers that a p...</td>\n",
       "      <td>Paperback</td>\n",
       "      <td>216.000000</td>\n",
       "      <td>3</td>\n",
       "      <td>2009</td>\n",
       "      <td>98</td>\n",
       "      <td>All's Fairy in Love and War (Avalon: Web of Ma...</td>\n",
       "      <td>6066812</td>\n",
       "    </tr>\n",
       "  </tbody>\n",
       "</table>\n",
       "</div>"
      ],
      "text/plain": [
       "   text_reviews_count country_code  is_ebook  average_rating  \\\n",
       "0                   6           US     False            3.23   \n",
       "1                   7           US     False            4.03   \n",
       "2                3282           US     False            3.49   \n",
       "3                   7           US     False            4.13   \n",
       "4                   6           US     False            4.22   \n",
       "\n",
       "                                         description     format   num_pages  \\\n",
       "0  Anita Diamant's international bestseller \"The ...   Audio CD  266.579581   \n",
       "1  Omnibus book club edition containing the Ladie...  Hardcover  600.000000   \n",
       "2  Addie Downs and Valerie Adler were eight when ...  Hardcover  368.000000   \n",
       "3  Relates in vigorous prose the tale of Aeneas, ...  Paperback  162.000000   \n",
       "4  To Kara's astonishment, she discovers that a p...  Paperback  216.000000   \n",
       "\n",
       "   publication_month  publication_year  ratings_count  \\\n",
       "0                 10              2001             10   \n",
       "1                 10              1987            140   \n",
       "2                  7              2009          51184   \n",
       "3                  9              2006             46   \n",
       "4                  3              2009             98   \n",
       "\n",
       "                                               title  book_id  \n",
       "0                                        Good Harbor  1333909  \n",
       "1  The Unschooled Wizard (Sun Wolf and Starhawk, ...  7327624  \n",
       "2                               Best Friends Forever  6066819  \n",
       "3                      The Aeneid for Boys and Girls   287141  \n",
       "4  All's Fairy in Love and War (Avalon: Web of Ma...  6066812  "
      ]
     },
     "execution_count": 6,
     "metadata": {},
     "output_type": "execute_result"
    }
   ],
   "source": [
    "book_df.head()"
   ]
  },
  {
   "cell_type": "code",
   "execution_count": 7,
   "metadata": {},
   "outputs": [
    {
     "data": {
      "text/plain": [
       "1948401"
      ]
     },
     "execution_count": 7,
     "metadata": {},
     "output_type": "execute_result"
    }
   ],
   "source": [
    "len(book_df['book_id'].unique())"
   ]
  },
  {
   "cell_type": "code",
   "execution_count": null,
   "metadata": {},
   "outputs": [],
   "source": [
    "book_df.eq('').any()"
   ]
  },
  {
   "cell_type": "code",
   "execution_count": null,
   "metadata": {},
   "outputs": [],
   "source": [
    "book_df.isna().any()"
   ]
  },
  {
   "cell_type": "markdown",
   "metadata": {},
   "source": [
    "#### Read Book ID DF"
   ]
  },
  {
   "cell_type": "code",
   "execution_count": null,
   "metadata": {},
   "outputs": [],
   "source": [
    "len(sub_df)"
   ]
  },
  {
   "cell_type": "code",
   "execution_count": null,
   "metadata": {},
   "outputs": [],
   "source": [
    "sub_df = sub_df.drop('Unnamed: 0', axis=1)"
   ]
  },
  {
   "cell_type": "code",
   "execution_count": null,
   "metadata": {},
   "outputs": [],
   "source": [
    "sub_df.head()"
   ]
  },
  {
   "cell_type": "code",
   "execution_count": 9,
   "metadata": {},
   "outputs": [],
   "source": [
    "book_id_map = pd.read_csv('../data/book_id_map.csv')"
   ]
  },
  {
   "cell_type": "code",
   "execution_count": 10,
   "metadata": {},
   "outputs": [
    {
     "data": {
      "text/plain": [
       "2360650"
      ]
     },
     "execution_count": 10,
     "metadata": {},
     "output_type": "execute_result"
    }
   ],
   "source": [
    "len(book_id_map)"
   ]
  },
  {
   "cell_type": "code",
   "execution_count": 13,
   "metadata": {},
   "outputs": [
    {
     "data": {
      "text/html": [
       "<div>\n",
       "<style scoped>\n",
       "    .dataframe tbody tr th:only-of-type {\n",
       "        vertical-align: middle;\n",
       "    }\n",
       "\n",
       "    .dataframe tbody tr th {\n",
       "        vertical-align: top;\n",
       "    }\n",
       "\n",
       "    .dataframe thead th {\n",
       "        text-align: right;\n",
       "    }\n",
       "</style>\n",
       "<table border=\"1\" class=\"dataframe\">\n",
       "  <thead>\n",
       "    <tr style=\"text-align: right;\">\n",
       "      <th></th>\n",
       "      <th>book_id_csv</th>\n",
       "      <th>book_id</th>\n",
       "    </tr>\n",
       "  </thead>\n",
       "  <tbody>\n",
       "    <tr>\n",
       "      <th>0</th>\n",
       "      <td>0</td>\n",
       "      <td>34684622</td>\n",
       "    </tr>\n",
       "    <tr>\n",
       "      <th>1</th>\n",
       "      <td>1</td>\n",
       "      <td>34536488</td>\n",
       "    </tr>\n",
       "    <tr>\n",
       "      <th>2</th>\n",
       "      <td>2</td>\n",
       "      <td>34017076</td>\n",
       "    </tr>\n",
       "    <tr>\n",
       "      <th>3</th>\n",
       "      <td>3</td>\n",
       "      <td>71730</td>\n",
       "    </tr>\n",
       "    <tr>\n",
       "      <th>4</th>\n",
       "      <td>4</td>\n",
       "      <td>30422361</td>\n",
       "    </tr>\n",
       "  </tbody>\n",
       "</table>\n",
       "</div>"
      ],
      "text/plain": [
       "   book_id_csv   book_id\n",
       "0            0  34684622\n",
       "1            1  34536488\n",
       "2            2  34017076\n",
       "3            3     71730\n",
       "4            4  30422361"
      ]
     },
     "execution_count": 13,
     "metadata": {},
     "output_type": "execute_result"
    }
   ],
   "source": [
    "book_id_map.head()"
   ]
  },
  {
   "cell_type": "code",
   "execution_count": 14,
   "metadata": {},
   "outputs": [
    {
     "data": {
      "text/plain": [
       "36530431"
      ]
     },
     "execution_count": 14,
     "metadata": {},
     "output_type": "execute_result"
    }
   ],
   "source": [
    "max(book_id_map['book_id'])"
   ]
  },
  {
   "cell_type": "code",
   "execution_count": null,
   "metadata": {},
   "outputs": [],
   "source": [
    "merge_df = sub_df.merge(book_id_map, left_on='book_id', right_on='book_id_csv', suffixes=[None, '_join'])"
   ]
  },
  {
   "cell_type": "code",
   "execution_count": null,
   "metadata": {},
   "outputs": [],
   "source": [
    "merge_df.head()"
   ]
  },
  {
   "cell_type": "code",
   "execution_count": null,
   "metadata": {},
   "outputs": [],
   "source": [
    "len(merge_df)"
   ]
  },
  {
   "cell_type": "code",
   "execution_count": null,
   "metadata": {},
   "outputs": [],
   "source": [
    "merge_df.isna().any()"
   ]
  },
  {
   "cell_type": "code",
   "execution_count": null,
   "metadata": {},
   "outputs": [],
   "source": [
    "merge_df['book_id_join'].value_counts()"
   ]
  },
  {
   "cell_type": "code",
   "execution_count": null,
   "metadata": {},
   "outputs": [],
   "source": [
    "merge_df_2 = merge_df.merge(book_df, left_on='book_id_join', right_on='book_id', suffixes=[None, '_x'])"
   ]
  },
  {
   "cell_type": "code",
   "execution_count": null,
   "metadata": {},
   "outputs": [],
   "source": [
    "len(merge_df_2)"
   ]
  },
  {
   "cell_type": "code",
   "execution_count": null,
   "metadata": {},
   "outputs": [],
   "source": [
    "merge_df_2.isna().any()"
   ]
  },
  {
   "cell_type": "code",
   "execution_count": null,
   "metadata": {},
   "outputs": [],
   "source": [
    "len(merge_df_2['book_id'].unique())"
   ]
  },
  {
   "cell_type": "code",
   "execution_count": null,
   "metadata": {},
   "outputs": [],
   "source": [
    "merge_df_2 = merge_df_2.drop(['book_id', 'book_id_csv', 'book_id_x'], axis=1)"
   ]
  },
  {
   "cell_type": "code",
   "execution_count": null,
   "metadata": {
    "scrolled": true
   },
   "outputs": [],
   "source": [
    "merge_df_2 = merge_df_2.rename(columns={'book_id_join': 'book_id'})"
   ]
  },
  {
   "cell_type": "code",
   "execution_count": null,
   "metadata": {},
   "outputs": [],
   "source": [
    "merge_df_2 = merge_df_2.reset_index(drop=True)"
   ]
  },
  {
   "cell_type": "code",
   "execution_count": null,
   "metadata": {},
   "outputs": [],
   "source": [
    "len(merge_df_2)"
   ]
  },
  {
   "cell_type": "code",
   "execution_count": null,
   "metadata": {},
   "outputs": [],
   "source": [
    "merge_df_2.to_csv('train_data.csv', index=False)"
   ]
  },
  {
   "cell_type": "markdown",
   "metadata": {},
   "source": [
    "# Step 2"
   ]
  },
  {
   "cell_type": "code",
   "execution_count": 15,
   "metadata": {},
   "outputs": [],
   "source": [
    "train_df = pd.read_csv('../data/train_data.csv')"
   ]
  },
  {
   "cell_type": "code",
   "execution_count": 16,
   "metadata": {},
   "outputs": [
    {
     "data": {
      "text/html": [
       "<div>\n",
       "<style scoped>\n",
       "    .dataframe tbody tr th:only-of-type {\n",
       "        vertical-align: middle;\n",
       "    }\n",
       "\n",
       "    .dataframe tbody tr th {\n",
       "        vertical-align: top;\n",
       "    }\n",
       "\n",
       "    .dataframe thead th {\n",
       "        text-align: right;\n",
       "    }\n",
       "</style>\n",
       "<table border=\"1\" class=\"dataframe\">\n",
       "  <thead>\n",
       "    <tr style=\"text-align: right;\">\n",
       "      <th></th>\n",
       "      <th>user_id</th>\n",
       "      <th>is_read</th>\n",
       "      <th>rating</th>\n",
       "      <th>is_reviewed</th>\n",
       "      <th>book_id</th>\n",
       "      <th>text_reviews_count</th>\n",
       "      <th>country_code</th>\n",
       "      <th>is_ebook</th>\n",
       "      <th>average_rating</th>\n",
       "      <th>description</th>\n",
       "      <th>format</th>\n",
       "      <th>num_pages</th>\n",
       "      <th>publication_month</th>\n",
       "      <th>publication_year</th>\n",
       "      <th>ratings_count</th>\n",
       "      <th>title</th>\n",
       "    </tr>\n",
       "  </thead>\n",
       "  <tbody>\n",
       "    <tr>\n",
       "      <th>0</th>\n",
       "      <td>25</td>\n",
       "      <td>0</td>\n",
       "      <td>0</td>\n",
       "      <td>0</td>\n",
       "      <td>9712492</td>\n",
       "      <td>1597</td>\n",
       "      <td>US</td>\n",
       "      <td>False</td>\n",
       "      <td>4.0</td>\n",
       "      <td>Struggling with her father's death, Nina meets...</td>\n",
       "      <td>Paperback</td>\n",
       "      <td>360.0</td>\n",
       "      <td>11</td>\n",
       "      <td>2010</td>\n",
       "      <td>23694</td>\n",
       "      <td>Providence (Providence, #1)</td>\n",
       "    </tr>\n",
       "    <tr>\n",
       "      <th>1</th>\n",
       "      <td>11959</td>\n",
       "      <td>1</td>\n",
       "      <td>4</td>\n",
       "      <td>0</td>\n",
       "      <td>9712492</td>\n",
       "      <td>1597</td>\n",
       "      <td>US</td>\n",
       "      <td>False</td>\n",
       "      <td>4.0</td>\n",
       "      <td>Struggling with her father's death, Nina meets...</td>\n",
       "      <td>Paperback</td>\n",
       "      <td>360.0</td>\n",
       "      <td>11</td>\n",
       "      <td>2010</td>\n",
       "      <td>23694</td>\n",
       "      <td>Providence (Providence, #1)</td>\n",
       "    </tr>\n",
       "    <tr>\n",
       "      <th>2</th>\n",
       "      <td>12681</td>\n",
       "      <td>0</td>\n",
       "      <td>0</td>\n",
       "      <td>0</td>\n",
       "      <td>9712492</td>\n",
       "      <td>1597</td>\n",
       "      <td>US</td>\n",
       "      <td>False</td>\n",
       "      <td>4.0</td>\n",
       "      <td>Struggling with her father's death, Nina meets...</td>\n",
       "      <td>Paperback</td>\n",
       "      <td>360.0</td>\n",
       "      <td>11</td>\n",
       "      <td>2010</td>\n",
       "      <td>23694</td>\n",
       "      <td>Providence (Providence, #1)</td>\n",
       "    </tr>\n",
       "    <tr>\n",
       "      <th>3</th>\n",
       "      <td>13228</td>\n",
       "      <td>0</td>\n",
       "      <td>0</td>\n",
       "      <td>0</td>\n",
       "      <td>9712492</td>\n",
       "      <td>1597</td>\n",
       "      <td>US</td>\n",
       "      <td>False</td>\n",
       "      <td>4.0</td>\n",
       "      <td>Struggling with her father's death, Nina meets...</td>\n",
       "      <td>Paperback</td>\n",
       "      <td>360.0</td>\n",
       "      <td>11</td>\n",
       "      <td>2010</td>\n",
       "      <td>23694</td>\n",
       "      <td>Providence (Providence, #1)</td>\n",
       "    </tr>\n",
       "    <tr>\n",
       "      <th>4</th>\n",
       "      <td>13502</td>\n",
       "      <td>0</td>\n",
       "      <td>0</td>\n",
       "      <td>0</td>\n",
       "      <td>9712492</td>\n",
       "      <td>1597</td>\n",
       "      <td>US</td>\n",
       "      <td>False</td>\n",
       "      <td>4.0</td>\n",
       "      <td>Struggling with her father's death, Nina meets...</td>\n",
       "      <td>Paperback</td>\n",
       "      <td>360.0</td>\n",
       "      <td>11</td>\n",
       "      <td>2010</td>\n",
       "      <td>23694</td>\n",
       "      <td>Providence (Providence, #1)</td>\n",
       "    </tr>\n",
       "  </tbody>\n",
       "</table>\n",
       "</div>"
      ],
      "text/plain": [
       "   user_id  is_read  rating  is_reviewed  book_id  text_reviews_count  \\\n",
       "0       25        0       0            0  9712492                1597   \n",
       "1    11959        1       4            0  9712492                1597   \n",
       "2    12681        0       0            0  9712492                1597   \n",
       "3    13228        0       0            0  9712492                1597   \n",
       "4    13502        0       0            0  9712492                1597   \n",
       "\n",
       "  country_code  is_ebook  average_rating  \\\n",
       "0           US     False             4.0   \n",
       "1           US     False             4.0   \n",
       "2           US     False             4.0   \n",
       "3           US     False             4.0   \n",
       "4           US     False             4.0   \n",
       "\n",
       "                                         description     format  num_pages  \\\n",
       "0  Struggling with her father's death, Nina meets...  Paperback      360.0   \n",
       "1  Struggling with her father's death, Nina meets...  Paperback      360.0   \n",
       "2  Struggling with her father's death, Nina meets...  Paperback      360.0   \n",
       "3  Struggling with her father's death, Nina meets...  Paperback      360.0   \n",
       "4  Struggling with her father's death, Nina meets...  Paperback      360.0   \n",
       "\n",
       "   publication_month  publication_year  ratings_count  \\\n",
       "0                 11              2010          23694   \n",
       "1                 11              2010          23694   \n",
       "2                 11              2010          23694   \n",
       "3                 11              2010          23694   \n",
       "4                 11              2010          23694   \n",
       "\n",
       "                         title  \n",
       "0  Providence (Providence, #1)  \n",
       "1  Providence (Providence, #1)  \n",
       "2  Providence (Providence, #1)  \n",
       "3  Providence (Providence, #1)  \n",
       "4  Providence (Providence, #1)  "
      ]
     },
     "execution_count": 16,
     "metadata": {},
     "output_type": "execute_result"
    }
   ],
   "source": [
    "train_df.head()"
   ]
  },
  {
   "cell_type": "code",
   "execution_count": null,
   "metadata": {},
   "outputs": [],
   "source": [
    "emb_model = GloveEmbedding('common_crawl_840', d_emb=300, show_progress=True)"
   ]
  },
  {
   "cell_type": "code",
   "execution_count": null,
   "metadata": {},
   "outputs": [],
   "source": [
    "vectorizer = Vectorizer()"
   ]
  },
  {
   "cell_type": "code",
   "execution_count": null,
   "metadata": {},
   "outputs": [],
   "source": [
    "vectorizer.run(list(train_df['description']))"
   ]
  },
  {
   "cell_type": "code",
   "execution_count": null,
   "metadata": {},
   "outputs": [],
   "source": [
    "vectors = vectorizer.vectors"
   ]
  },
  {
   "cell_type": "code",
   "execution_count": null,
   "metadata": {},
   "outputs": [],
   "source": [
    "type(vectors)"
   ]
  },
  {
   "cell_type": "code",
   "execution_count": null,
   "metadata": {},
   "outputs": [],
   "source": [
    "len(vectors)"
   ]
  },
  {
   "cell_type": "code",
   "execution_count": 17,
   "metadata": {},
   "outputs": [
    {
     "data": {
      "text/html": [
       "<div>\n",
       "<style scoped>\n",
       "    .dataframe tbody tr th:only-of-type {\n",
       "        vertical-align: middle;\n",
       "    }\n",
       "\n",
       "    .dataframe tbody tr th {\n",
       "        vertical-align: top;\n",
       "    }\n",
       "\n",
       "    .dataframe thead th {\n",
       "        text-align: right;\n",
       "    }\n",
       "</style>\n",
       "<table border=\"1\" class=\"dataframe\">\n",
       "  <thead>\n",
       "    <tr style=\"text-align: right;\">\n",
       "      <th></th>\n",
       "      <th>user_id</th>\n",
       "      <th>is_read</th>\n",
       "      <th>rating</th>\n",
       "      <th>is_reviewed</th>\n",
       "      <th>book_id</th>\n",
       "      <th>text_reviews_count</th>\n",
       "      <th>country_code</th>\n",
       "      <th>is_ebook</th>\n",
       "      <th>average_rating</th>\n",
       "      <th>description</th>\n",
       "      <th>format</th>\n",
       "      <th>num_pages</th>\n",
       "      <th>publication_month</th>\n",
       "      <th>publication_year</th>\n",
       "      <th>ratings_count</th>\n",
       "      <th>title</th>\n",
       "    </tr>\n",
       "  </thead>\n",
       "  <tbody>\n",
       "    <tr>\n",
       "      <th>0</th>\n",
       "      <td>25</td>\n",
       "      <td>0</td>\n",
       "      <td>0</td>\n",
       "      <td>0</td>\n",
       "      <td>9712492</td>\n",
       "      <td>1597</td>\n",
       "      <td>US</td>\n",
       "      <td>False</td>\n",
       "      <td>4.00</td>\n",
       "      <td>Struggling with her father's death, Nina meets...</td>\n",
       "      <td>Paperback</td>\n",
       "      <td>360.000000</td>\n",
       "      <td>11</td>\n",
       "      <td>2010</td>\n",
       "      <td>23694</td>\n",
       "      <td>Providence (Providence, #1)</td>\n",
       "    </tr>\n",
       "    <tr>\n",
       "      <th>95</th>\n",
       "      <td>25</td>\n",
       "      <td>0</td>\n",
       "      <td>0</td>\n",
       "      <td>0</td>\n",
       "      <td>11505797</td>\n",
       "      <td>21970</td>\n",
       "      <td>US</td>\n",
       "      <td>True</td>\n",
       "      <td>4.14</td>\n",
       "      <td>The new Abby Abernathy is a good girl. She doe...</td>\n",
       "      <td>Kindle Edition</td>\n",
       "      <td>319.000000</td>\n",
       "      <td>5</td>\n",
       "      <td>2011</td>\n",
       "      <td>425898</td>\n",
       "      <td>Beautiful Disaster (Beautiful, #1)</td>\n",
       "    </tr>\n",
       "    <tr>\n",
       "      <th>736</th>\n",
       "      <td>25</td>\n",
       "      <td>0</td>\n",
       "      <td>0</td>\n",
       "      <td>0</td>\n",
       "      <td>11532160</td>\n",
       "      <td>675</td>\n",
       "      <td>US</td>\n",
       "      <td>False</td>\n",
       "      <td>4.15</td>\n",
       "      <td>Dreaming of the dead might mean a restless nig...</td>\n",
       "      <td>Paperback</td>\n",
       "      <td>266.579581</td>\n",
       "      <td>10</td>\n",
       "      <td>2013</td>\n",
       "      <td>16987</td>\n",
       "      <td>Requiem (Providence, #2)</td>\n",
       "    </tr>\n",
       "    <tr>\n",
       "      <th>790</th>\n",
       "      <td>25</td>\n",
       "      <td>0</td>\n",
       "      <td>0</td>\n",
       "      <td>0</td>\n",
       "      <td>13417946</td>\n",
       "      <td>772</td>\n",
       "      <td>US</td>\n",
       "      <td>False</td>\n",
       "      <td>4.17</td>\n",
       "      <td>She had seen the unspeakable. She would learn ...</td>\n",
       "      <td>Paperback</td>\n",
       "      <td>276.000000</td>\n",
       "      <td>4</td>\n",
       "      <td>2012</td>\n",
       "      <td>15482</td>\n",
       "      <td>Eden (Providence, #3)</td>\n",
       "    </tr>\n",
       "    <tr>\n",
       "      <th>835</th>\n",
       "      <td>25</td>\n",
       "      <td>1</td>\n",
       "      <td>5</td>\n",
       "      <td>0</td>\n",
       "      <td>10140661</td>\n",
       "      <td>6213</td>\n",
       "      <td>US</td>\n",
       "      <td>False</td>\n",
       "      <td>4.02</td>\n",
       "      <td>Enigmatic and sexy, Professor Gabriel Emerson ...</td>\n",
       "      <td>Paperback</td>\n",
       "      <td>506.000000</td>\n",
       "      <td>4</td>\n",
       "      <td>2011</td>\n",
       "      <td>120765</td>\n",
       "      <td>Gabriel's Inferno (Gabriel's Inferno, #1)</td>\n",
       "    </tr>\n",
       "    <tr>\n",
       "      <th>...</th>\n",
       "      <td>...</td>\n",
       "      <td>...</td>\n",
       "      <td>...</td>\n",
       "      <td>...</td>\n",
       "      <td>...</td>\n",
       "      <td>...</td>\n",
       "      <td>...</td>\n",
       "      <td>...</td>\n",
       "      <td>...</td>\n",
       "      <td>...</td>\n",
       "      <td>...</td>\n",
       "      <td>...</td>\n",
       "      <td>...</td>\n",
       "      <td>...</td>\n",
       "      <td>...</td>\n",
       "      <td>...</td>\n",
       "    </tr>\n",
       "    <tr>\n",
       "      <th>14937</th>\n",
       "      <td>25</td>\n",
       "      <td>0</td>\n",
       "      <td>0</td>\n",
       "      <td>0</td>\n",
       "      <td>10230881</td>\n",
       "      <td>750</td>\n",
       "      <td>US</td>\n",
       "      <td>False</td>\n",
       "      <td>3.75</td>\n",
       "      <td>Three years after her husband Max's death, She...</td>\n",
       "      <td>Hardcover</td>\n",
       "      <td>297.000000</td>\n",
       "      <td>8</td>\n",
       "      <td>2011</td>\n",
       "      <td>4112</td>\n",
       "      <td>Before Ever After</td>\n",
       "    </tr>\n",
       "    <tr>\n",
       "      <th>14961</th>\n",
       "      <td>25</td>\n",
       "      <td>1</td>\n",
       "      <td>5</td>\n",
       "      <td>0</td>\n",
       "      <td>17156082</td>\n",
       "      <td>794</td>\n",
       "      <td>US</td>\n",
       "      <td>True</td>\n",
       "      <td>4.33</td>\n",
       "      <td>Sometimes discovering the truth can leave you ...</td>\n",
       "      <td>Kindle Edition</td>\n",
       "      <td>488.000000</td>\n",
       "      <td>12</td>\n",
       "      <td>2012</td>\n",
       "      <td>10891</td>\n",
       "      <td>Hopeless (Hopeless, #1)</td>\n",
       "    </tr>\n",
       "    <tr>\n",
       "      <th>14981</th>\n",
       "      <td>25</td>\n",
       "      <td>0</td>\n",
       "      <td>0</td>\n",
       "      <td>0</td>\n",
       "      <td>11561469</td>\n",
       "      <td>4678</td>\n",
       "      <td>US</td>\n",
       "      <td>True</td>\n",
       "      <td>4.23</td>\n",
       "      <td>\"No one tried to get involved with me, and I k...</td>\n",
       "      <td>Kindle Edition</td>\n",
       "      <td>377.000000</td>\n",
       "      <td>5</td>\n",
       "      <td>2011</td>\n",
       "      <td>69366</td>\n",
       "      <td>Reason to Breathe (Breathing, #1)</td>\n",
       "    </tr>\n",
       "    <tr>\n",
       "      <th>15139</th>\n",
       "      <td>25</td>\n",
       "      <td>1</td>\n",
       "      <td>5</td>\n",
       "      <td>1</td>\n",
       "      <td>9266776</td>\n",
       "      <td>2067</td>\n",
       "      <td>US</td>\n",
       "      <td>False</td>\n",
       "      <td>3.73</td>\n",
       "      <td>At Coral Tree Prep in Los Angeles, who your pa...</td>\n",
       "      <td>Paperback</td>\n",
       "      <td>295.000000</td>\n",
       "      <td>8</td>\n",
       "      <td>2011</td>\n",
       "      <td>29827</td>\n",
       "      <td>Epic Fail</td>\n",
       "    </tr>\n",
       "    <tr>\n",
       "      <th>15211</th>\n",
       "      <td>25</td>\n",
       "      <td>1</td>\n",
       "      <td>5</td>\n",
       "      <td>0</td>\n",
       "      <td>13600318</td>\n",
       "      <td>5106</td>\n",
       "      <td>US</td>\n",
       "      <td>True</td>\n",
       "      <td>4.42</td>\n",
       "      <td>Can love survive when life gets Reckless?\\nWhe...</td>\n",
       "      <td>Kindle Edition</td>\n",
       "      <td>546.000000</td>\n",
       "      <td>3</td>\n",
       "      <td>2013</td>\n",
       "      <td>70239</td>\n",
       "      <td>Reckless (Thoughtless, #3)</td>\n",
       "    </tr>\n",
       "  </tbody>\n",
       "</table>\n",
       "<p>125 rows × 16 columns</p>\n",
       "</div>"
      ],
      "text/plain": [
       "       user_id  is_read  rating  is_reviewed   book_id  text_reviews_count  \\\n",
       "0           25        0       0            0   9712492                1597   \n",
       "95          25        0       0            0  11505797               21970   \n",
       "736         25        0       0            0  11532160                 675   \n",
       "790         25        0       0            0  13417946                 772   \n",
       "835         25        1       5            0  10140661                6213   \n",
       "...        ...      ...     ...          ...       ...                 ...   \n",
       "14937       25        0       0            0  10230881                 750   \n",
       "14961       25        1       5            0  17156082                 794   \n",
       "14981       25        0       0            0  11561469                4678   \n",
       "15139       25        1       5            1   9266776                2067   \n",
       "15211       25        1       5            0  13600318                5106   \n",
       "\n",
       "      country_code  is_ebook  average_rating  \\\n",
       "0               US     False            4.00   \n",
       "95              US      True            4.14   \n",
       "736             US     False            4.15   \n",
       "790             US     False            4.17   \n",
       "835             US     False            4.02   \n",
       "...            ...       ...             ...   \n",
       "14937           US     False            3.75   \n",
       "14961           US      True            4.33   \n",
       "14981           US      True            4.23   \n",
       "15139           US     False            3.73   \n",
       "15211           US      True            4.42   \n",
       "\n",
       "                                             description          format  \\\n",
       "0      Struggling with her father's death, Nina meets...       Paperback   \n",
       "95     The new Abby Abernathy is a good girl. She doe...  Kindle Edition   \n",
       "736    Dreaming of the dead might mean a restless nig...       Paperback   \n",
       "790    She had seen the unspeakable. She would learn ...       Paperback   \n",
       "835    Enigmatic and sexy, Professor Gabriel Emerson ...       Paperback   \n",
       "...                                                  ...             ...   \n",
       "14937  Three years after her husband Max's death, She...       Hardcover   \n",
       "14961  Sometimes discovering the truth can leave you ...  Kindle Edition   \n",
       "14981  \"No one tried to get involved with me, and I k...  Kindle Edition   \n",
       "15139  At Coral Tree Prep in Los Angeles, who your pa...       Paperback   \n",
       "15211  Can love survive when life gets Reckless?\\nWhe...  Kindle Edition   \n",
       "\n",
       "        num_pages  publication_month  publication_year  ratings_count  \\\n",
       "0      360.000000                 11              2010          23694   \n",
       "95     319.000000                  5              2011         425898   \n",
       "736    266.579581                 10              2013          16987   \n",
       "790    276.000000                  4              2012          15482   \n",
       "835    506.000000                  4              2011         120765   \n",
       "...           ...                ...               ...            ...   \n",
       "14937  297.000000                  8              2011           4112   \n",
       "14961  488.000000                 12              2012          10891   \n",
       "14981  377.000000                  5              2011          69366   \n",
       "15139  295.000000                  8              2011          29827   \n",
       "15211  546.000000                  3              2013          70239   \n",
       "\n",
       "                                           title  \n",
       "0                    Providence (Providence, #1)  \n",
       "95            Beautiful Disaster (Beautiful, #1)  \n",
       "736                     Requiem (Providence, #2)  \n",
       "790                        Eden (Providence, #3)  \n",
       "835    Gabriel's Inferno (Gabriel's Inferno, #1)  \n",
       "...                                          ...  \n",
       "14937                          Before Ever After  \n",
       "14961                    Hopeless (Hopeless, #1)  \n",
       "14981          Reason to Breathe (Breathing, #1)  \n",
       "15139                                  Epic Fail  \n",
       "15211                 Reckless (Thoughtless, #3)  \n",
       "\n",
       "[125 rows x 16 columns]"
      ]
     },
     "execution_count": 17,
     "metadata": {},
     "output_type": "execute_result"
    }
   ],
   "source": [
    "train_df.loc[train_df['user_id'] == 25]"
   ]
  },
  {
   "cell_type": "code",
   "execution_count": 18,
   "metadata": {},
   "outputs": [
    {
     "data": {
      "text/plain": [
       "2587802"
      ]
     },
     "execution_count": 18,
     "metadata": {},
     "output_type": "execute_result"
    }
   ],
   "source": [
    "len(train_df['user_id'])"
   ]
  },
  {
   "cell_type": "code",
   "execution_count": 19,
   "metadata": {},
   "outputs": [],
   "source": [
    "num_users = len(train_df['user_id'].unique())"
   ]
  },
  {
   "cell_type": "code",
   "execution_count": 20,
   "metadata": {},
   "outputs": [],
   "source": [
    "num_books = len(train_df['book_id'].unique())"
   ]
  },
  {
   "cell_type": "code",
   "execution_count": 31,
   "metadata": {},
   "outputs": [],
   "source": [
    "book_id_to_embedding_id = dict(zip(train_df['book_id'].unique(), range(len(train_df['book_id'].unique()))))"
   ]
  },
  {
   "cell_type": "code",
   "execution_count": null,
   "metadata": {
    "scrolled": true
   },
   "outputs": [],
   "source": [
    "book_id_to_embedding_id"
   ]
  },
  {
   "cell_type": "code",
   "execution_count": null,
   "metadata": {},
   "outputs": [],
   "source": [
    "train_df.iloc[0]"
   ]
  },
  {
   "cell_type": "code",
   "execution_count": null,
   "metadata": {},
   "outputs": [],
   "source": [
    "# Should top k featurize this\n",
    "train_df['format'].value_counts().head(10)"
   ]
  },
  {
   "cell_type": "code",
   "execution_count": 22,
   "metadata": {},
   "outputs": [],
   "source": [
    "interaction_df = train_df.copy()"
   ]
  },
  {
   "cell_type": "code",
   "execution_count": 23,
   "metadata": {},
   "outputs": [],
   "source": [
    "interaction_df = interaction_df.drop_duplicates(subset='book_id').reset_index(drop=True)"
   ]
  },
  {
   "cell_type": "code",
   "execution_count": 24,
   "metadata": {},
   "outputs": [],
   "source": [
    "book_embedding_df = book_embedding_df.drop(['user_id', 'country_code', 'format'], axis=1)"
   ]
  },
  {
   "cell_type": "code",
   "execution_count": 25,
   "metadata": {},
   "outputs": [],
   "source": [
    "book_embedding_df['is_ebook'] = book_embedding_df['is_ebook'].apply(lambda x: int(x))"
   ]
  },
  {
   "cell_type": "code",
   "execution_count": null,
   "metadata": {},
   "outputs": [],
   "source": [
    "book_embedding_df.columns"
   ]
  },
  {
   "cell_type": "code",
   "execution_count": null,
   "metadata": {},
   "outputs": [],
   "source": [
    "book_embedding_df.iloc[0]"
   ]
  },
  {
   "cell_type": "code",
   "execution_count": 26,
   "metadata": {},
   "outputs": [],
   "source": [
    "decade_bins = [0, 1989, 1999, 2009, 2019, float('inf')]  # Define the bins for each decade\n",
    "decade_labels = ['Before 1990', '1990-1999', '2000-2009', '2010-2019', '2020 and onwards']\n",
    "book_embedding_df['publication_decade'] = pd.cut(book_embedding_df['publication_year'], bins=decade_bins, labels=decade_labels, right=False)"
   ]
  },
  {
   "cell_type": "code",
   "execution_count": 27,
   "metadata": {},
   "outputs": [],
   "source": [
    "book_embedding_df = book_embedding_df.drop(['publication_year'], axis=1)"
   ]
  },
  {
   "cell_type": "code",
   "execution_count": 28,
   "metadata": {},
   "outputs": [],
   "source": [
    "book_embedding_df = pd.get_dummies(book_embedding_df, columns=['publication_month', 'publication_decade'])"
   ]
  },
  {
   "cell_type": "code",
   "execution_count": 29,
   "metadata": {},
   "outputs": [],
   "source": [
    "scaler = MinMaxScaler()\n",
    "columns_to_normalize = ['rating', 'text_reviews_count', 'average_rating', 'num_pages', 'ratings_count']\n",
    "book_embedding_df[columns_to_normalize] = scaler.fit_transform(book_embedding_df[columns_to_normalize])"
   ]
  },
  {
   "cell_type": "code",
   "execution_count": 34,
   "metadata": {},
   "outputs": [],
   "source": [
    "book_vectors = {}"
   ]
  },
  {
   "cell_type": "code",
   "execution_count": 35,
   "metadata": {},
   "outputs": [],
   "source": [
    "nlp = spacy.load(\"en_core_web_md\")"
   ]
  },
  {
   "cell_type": "code",
   "execution_count": null,
   "metadata": {},
   "outputs": [],
   "source": [
    "for _, row in book_embedding_df.iterrows():\n",
    "    book_id = row['book_id']\n",
    "    description_embed = nlp(row['description']).vector[:64]\n",
    "    title_embed = nlp(row['title']).vector[:32]\n",
    "    feature_vec = row.drop(['description', 'title', 'book_id']).values\n",
    "    book_vec = np.concatenate([feature_vec, description_embed, title_embed], axis=0)\n",
    "    book_vectors[book_id_to_embedding_id[book_id]] = book_vec"
   ]
  },
  {
   "cell_type": "code",
   "execution_count": null,
   "metadata": {},
   "outputs": [],
   "source": [
    "book_vec_df = pd.DataFrame(book_vectors)\n",
    "book_vec_df.to_csv('book_vec_dict.csv', index=False)"
   ]
  },
  {
   "cell_type": "code",
   "execution_count": null,
   "metadata": {},
   "outputs": [],
   "source": [
    "new_book_vectors = {book_id_to_embedding_id[k]:v for k, v in book_vectors.items()}"
   ]
  },
  {
   "cell_type": "code",
   "execution_count": null,
   "metadata": {},
   "outputs": [],
   "source": [
    "book_features = torch.tensor([list(v) for v in book_vectors.values()])"
   ]
  },
  {
   "cell_type": "code",
   "execution_count": null,
   "metadata": {},
   "outputs": [],
   "source": [
    "book_features.shape"
   ]
  },
  {
   "cell_type": "markdown",
   "metadata": {},
   "source": [
    "## Step 3: Create Embedding Model"
   ]
  },
  {
   "cell_type": "code",
   "execution_count": 1,
   "metadata": {},
   "outputs": [],
   "source": [
    "import torch\n",
    "import torch.nn as nn\n",
    "import torch.nn.functional as F\n",
    "\n",
    "class BookEmbeddingNet(nn.Module):\n",
    "    def __init__(self, num_books, book_feature_dim, embedding_dim):\n",
    "        super(BookEmbeddingNet, self).__init__()\n",
    "#         self.book_embeddings = nn.Embedding(num_books, embedding_dim)\n",
    "        self.fc1 = nn.Linear(book_feature_dim, embedding_dim)\n",
    "        self.fc2 = nn.Linear(embedding_dim, num_books)\n",
    "\n",
    "    def forward(self, book_features):\n",
    "        # Pass book features through fully connected layers\n",
    "        hidden_layer = F.relu(self.fc1(book_features))\n",
    "        output_layer = self.fc2(hidden_layer)\n",
    "        # Lookup embeddings based on book IDs\n",
    "#         book_embeddings = self.book_embeddings(torch.arange(num_books).to(book_features.device))\n",
    "        return output_layer"
   ]
  },
  {
   "cell_type": "code",
   "execution_count": null,
   "metadata": {},
   "outputs": [],
   "source": [
    "# Transform Goodreads shelves into interaction data\n",
    "def get_label_id(book_ids):\n",
    "    return [book_id_to_embedding_id[book_id] for book_id in book_ids]\n",
    "\n",
    "grouped_interactions = train_df[['user_id', 'book_id']].groupby('user_id')['book_id'].apply(get_label_id).reset_index()"
   ]
  },
  {
   "cell_type": "code",
   "execution_count": null,
   "metadata": {},
   "outputs": [],
   "source": [
    "user_to_index = {user_id: i for i, user_id in enumerate(train_df['user_id'].unique())}"
   ]
  },
  {
   "cell_type": "code",
   "execution_count": null,
   "metadata": {},
   "outputs": [],
   "source": [
    "sparse_tensor = torch.zeros(num_users, num_books, dtype=torch.float)"
   ]
  },
  {
   "cell_type": "code",
   "execution_count": null,
   "metadata": {},
   "outputs": [],
   "source": [
    "for _, row in grouped_interactions.iterrows():\n",
    "    user_index = user_to_index[row['user_id']]\n",
    "    \n",
    "    for book_index in row['book_id']:\n",
    "        sparse_tensor[user_index, book_index] = 1.0"
   ]
  },
  {
   "cell_type": "code",
   "execution_count": null,
   "metadata": {},
   "outputs": [],
   "source": [
    "sparse_tensor.shape"
   ]
  },
  {
   "cell_type": "code",
   "execution_count": null,
   "metadata": {},
   "outputs": [],
   "source": [
    "import torch.optim as optim"
   ]
  },
  {
   "cell_type": "code",
   "execution_count": null,
   "metadata": {},
   "outputs": [],
   "source": [
    "model = BookEmbeddingNet(num_books, 121, 128)\n",
    "criterion = nn.MSELoss()\n",
    "optimizer = optim.SGD(model.parameters(), lr=0.01)"
   ]
  },
  {
   "cell_type": "code",
   "execution_count": null,
   "metadata": {},
   "outputs": [],
   "source": [
    "num_epochs = 1\n",
    "for epoch in range(num_epochs):\n",
    "    running_loss = 0.0\n",
    "    for i, row in grouped_interactions.iterrows():\n",
    "        if (i + 1) > 1:\n",
    "            break\n",
    "        \n",
    "        user_index = user_to_index[row['user_id']]\n",
    "        labels = sparse_tensor[user_index]\n",
    "        \n",
    "        for book_index in row['book_id']:\n",
    "            book_features = torch.tensor(list(new_book_vectors[book_index]))\n",
    "            outputs = model(book_features)\n",
    "            loss = criterion(outputs, labels)\n",
    "            loss.backward()\n",
    "            optimizer.step()\n",
    "            running_loss += loss.item()\n",
    "            \n",
    "        if (i + 1) % 1 == 0:\n",
    "            print(f'Epoch [{epoch + 1}/{num_epochs}], Step [{i + 1}/{len(grouped_interactions)}], Loss: {running_loss / 100:.4f}')\n",
    "            running_loss = 0.0\n",
    "\n",
    "print('Finished Training')"
   ]
  },
  {
   "cell_type": "code",
   "execution_count": null,
   "metadata": {},
   "outputs": [],
   "source": [
    "torch.save(model, 'model_test.pt')"
   ]
  },
  {
   "cell_type": "code",
   "execution_count": null,
   "metadata": {},
   "outputs": [],
   "source": [
    "embedding_net = torch.load('model_test.pt')"
   ]
  },
  {
   "cell_type": "code",
   "execution_count": null,
   "metadata": {},
   "outputs": [],
   "source": [
    "embedding_net.eval()"
   ]
  },
  {
   "cell_type": "code",
   "execution_count": null,
   "metadata": {},
   "outputs": [],
   "source": [
    "embedding_net.__dir__()"
   ]
  },
  {
   "cell_type": "code",
   "execution_count": null,
   "metadata": {},
   "outputs": [],
   "source": [
    "embedding_net.fc_1"
   ]
  },
  {
   "cell_type": "code",
   "execution_count": null,
   "metadata": {},
   "outputs": [],
   "source": [
    "embedding_net.fc_1(torch.tensor(list(book_vectors[9712492])))"
   ]
  },
  {
   "cell_type": "code",
   "execution_count": null,
   "metadata": {},
   "outputs": [],
   "source": [
    "hasattr(embedding_net, 'fc1')"
   ]
  },
  {
   "cell_type": "code",
   "execution_count": null,
   "metadata": {},
   "outputs": [],
   "source": [
    "torch.tensor(list(book_vectors[9712492])).shape"
   ]
  },
  {
   "cell_type": "code",
   "execution_count": null,
   "metadata": {},
   "outputs": [],
   "source": [
    "for _ in embedding_net.named_parameters():\n",
    "    print(_)"
   ]
  },
  {
   "cell_type": "code",
   "execution_count": null,
   "metadata": {},
   "outputs": [],
   "source": []
  }
 ],
 "metadata": {
  "kernelspec": {
   "display_name": "Python 3",
   "language": "python",
   "name": "python3"
  },
  "language_info": {
   "codemirror_mode": {
    "name": "ipython",
    "version": 3
   },
   "file_extension": ".py",
   "mimetype": "text/x-python",
   "name": "python",
   "nbconvert_exporter": "python",
   "pygments_lexer": "ipython3",
   "version": "3.7.3"
  }
 },
 "nbformat": 4,
 "nbformat_minor": 2
}
